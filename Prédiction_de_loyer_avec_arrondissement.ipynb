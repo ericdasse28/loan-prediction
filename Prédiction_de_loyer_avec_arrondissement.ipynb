{
  "nbformat": 4,
  "nbformat_minor": 0,
  "metadata": {
    "colab": {
      "name": "Prédiction de loyer avec arrondissement.ipynb",
      "provenance": [],
      "collapsed_sections": [],
      "toc_visible": true,
      "authorship_tag": "ABX9TyOgZRp6QbpecgdEkeqoUNlQ",
      "include_colab_link": true
    },
    "kernelspec": {
      "name": "python3",
      "display_name": "Python 3"
    }
  },
  "cells": [
    {
      "cell_type": "markdown",
      "metadata": {
        "id": "view-in-github",
        "colab_type": "text"
      },
      "source": [
        "<a href=\"https://colab.research.google.com/github/ericdasse28/loan-prediction/blob/master/Pr%C3%A9diction_de_loyer_avec_arrondissement.ipynb\" target=\"_parent\"><img src=\"https://colab.research.google.com/assets/colab-badge.svg\" alt=\"Open In Colab\"/></a>"
      ]
    },
    {
      "cell_type": "markdown",
      "metadata": {
        "id": "CRFJJUH5rhOc"
      },
      "source": [
        "# Prédiction du loyer sur Paris en fonction de la surface de l'appartement et de l'arrondissement"
      ]
    },
    {
      "cell_type": "code",
      "metadata": {
        "id": "Iu0YLRL8J6NH"
      },
      "source": [
        "import matplotlib.pyplot as plt\n",
        "import numpy as np\n",
        "import pandas as pd\n",
        "import seaborn as sns\n",
        "from matplotlib.ticker import AutoMinorLocator\n",
        "from sklearn.linear_model import LinearRegression\n",
        "from sklearn.model_selection import train_test_split"
      ],
      "execution_count": 32,
      "outputs": []
    },
    {
      "cell_type": "markdown",
      "metadata": {
        "id": "mx_yYPu2rWPM"
      },
      "source": [
        "## Première phase : Exploration/nettoyage des données"
      ]
    },
    {
      "cell_type": "code",
      "metadata": {
        "colab": {
          "base_uri": "https://localhost:8080/"
        },
        "id": "h07pYRrAMEq3",
        "outputId": "06ac0aec-a56e-4439-be14-c4f843cfeb06"
      },
      "source": [
        "# Récupération des données\n",
        "raw_data = pd.read_csv('house_data.csv')\n",
        "raw_data.shape"
      ],
      "execution_count": 2,
      "outputs": [
        {
          "output_type": "execute_result",
          "data": {
            "text/plain": [
              "(827, 3)"
            ]
          },
          "metadata": {
            "tags": []
          },
          "execution_count": 2
        }
      ]
    },
    {
      "cell_type": "code",
      "metadata": {
        "colab": {
          "base_uri": "https://localhost:8080/",
          "height": 204
        },
        "id": "BHWS2mAWMXKe",
        "outputId": "c89d92c2-2619-466a-85af-4ab507c4e0a1"
      },
      "source": [
        "# Vue d'ensemble des données\n",
        "raw_data.head()"
      ],
      "execution_count": 3,
      "outputs": [
        {
          "output_type": "execute_result",
          "data": {
            "text/html": [
              "<div>\n",
              "<style scoped>\n",
              "    .dataframe tbody tr th:only-of-type {\n",
              "        vertical-align: middle;\n",
              "    }\n",
              "\n",
              "    .dataframe tbody tr th {\n",
              "        vertical-align: top;\n",
              "    }\n",
              "\n",
              "    .dataframe thead th {\n",
              "        text-align: right;\n",
              "    }\n",
              "</style>\n",
              "<table border=\"1\" class=\"dataframe\">\n",
              "  <thead>\n",
              "    <tr style=\"text-align: right;\">\n",
              "      <th></th>\n",
              "      <th>price</th>\n",
              "      <th>surface</th>\n",
              "      <th>arrondissement</th>\n",
              "    </tr>\n",
              "  </thead>\n",
              "  <tbody>\n",
              "    <tr>\n",
              "      <th>0</th>\n",
              "      <td>1820</td>\n",
              "      <td>46.1</td>\n",
              "      <td>1.0</td>\n",
              "    </tr>\n",
              "    <tr>\n",
              "      <th>1</th>\n",
              "      <td>1750</td>\n",
              "      <td>41.0</td>\n",
              "      <td>1.0</td>\n",
              "    </tr>\n",
              "    <tr>\n",
              "      <th>2</th>\n",
              "      <td>1900</td>\n",
              "      <td>55.0</td>\n",
              "      <td>1.0</td>\n",
              "    </tr>\n",
              "    <tr>\n",
              "      <th>3</th>\n",
              "      <td>1950</td>\n",
              "      <td>46.0</td>\n",
              "      <td>1.0</td>\n",
              "    </tr>\n",
              "    <tr>\n",
              "      <th>4</th>\n",
              "      <td>1950</td>\n",
              "      <td>49.0</td>\n",
              "      <td>1.0</td>\n",
              "    </tr>\n",
              "  </tbody>\n",
              "</table>\n",
              "</div>"
            ],
            "text/plain": [
              "   price  surface  arrondissement\n",
              "0   1820     46.1             1.0\n",
              "1   1750     41.0             1.0\n",
              "2   1900     55.0             1.0\n",
              "3   1950     46.0             1.0\n",
              "4   1950     49.0             1.0"
            ]
          },
          "metadata": {
            "tags": []
          },
          "execution_count": 3
        }
      ]
    },
    {
      "cell_type": "code",
      "metadata": {
        "colab": {
          "base_uri": "https://localhost:8080/",
          "height": 297
        },
        "id": "YwkuUptNsBLJ",
        "outputId": "882c9a15-1485-4b78-e892-332d42d9c3af"
      },
      "source": [
        "# Résumé des données brutes\r\n",
        "raw_data.describe()"
      ],
      "execution_count": 4,
      "outputs": [
        {
          "output_type": "execute_result",
          "data": {
            "text/html": [
              "<div>\n",
              "<style scoped>\n",
              "    .dataframe tbody tr th:only-of-type {\n",
              "        vertical-align: middle;\n",
              "    }\n",
              "\n",
              "    .dataframe tbody tr th {\n",
              "        vertical-align: top;\n",
              "    }\n",
              "\n",
              "    .dataframe thead th {\n",
              "        text-align: right;\n",
              "    }\n",
              "</style>\n",
              "<table border=\"1\" class=\"dataframe\">\n",
              "  <thead>\n",
              "    <tr style=\"text-align: right;\">\n",
              "      <th></th>\n",
              "      <th>price</th>\n",
              "      <th>surface</th>\n",
              "      <th>arrondissement</th>\n",
              "    </tr>\n",
              "  </thead>\n",
              "  <tbody>\n",
              "    <tr>\n",
              "      <th>count</th>\n",
              "      <td>827.000000</td>\n",
              "      <td>822.000000</td>\n",
              "      <td>822.000000</td>\n",
              "    </tr>\n",
              "    <tr>\n",
              "      <th>mean</th>\n",
              "      <td>2007.342201</td>\n",
              "      <td>58.045925</td>\n",
              "      <td>4.142336</td>\n",
              "    </tr>\n",
              "    <tr>\n",
              "      <th>std</th>\n",
              "      <td>1890.894229</td>\n",
              "      <td>44.827522</td>\n",
              "      <td>3.202151</td>\n",
              "    </tr>\n",
              "    <tr>\n",
              "      <th>min</th>\n",
              "      <td>390.000000</td>\n",
              "      <td>10.000000</td>\n",
              "      <td>1.000000</td>\n",
              "    </tr>\n",
              "    <tr>\n",
              "      <th>25%</th>\n",
              "      <td>1050.000000</td>\n",
              "      <td>28.655000</td>\n",
              "      <td>2.000000</td>\n",
              "    </tr>\n",
              "    <tr>\n",
              "      <th>50%</th>\n",
              "      <td>1567.000000</td>\n",
              "      <td>46.100000</td>\n",
              "      <td>3.000000</td>\n",
              "    </tr>\n",
              "    <tr>\n",
              "      <th>75%</th>\n",
              "      <td>2346.000000</td>\n",
              "      <td>73.000000</td>\n",
              "      <td>4.000000</td>\n",
              "    </tr>\n",
              "    <tr>\n",
              "      <th>max</th>\n",
              "      <td>25000.000000</td>\n",
              "      <td>415.000000</td>\n",
              "      <td>10.000000</td>\n",
              "    </tr>\n",
              "  </tbody>\n",
              "</table>\n",
              "</div>"
            ],
            "text/plain": [
              "              price     surface  arrondissement\n",
              "count    827.000000  822.000000      822.000000\n",
              "mean    2007.342201   58.045925        4.142336\n",
              "std     1890.894229   44.827522        3.202151\n",
              "min      390.000000   10.000000        1.000000\n",
              "25%     1050.000000   28.655000        2.000000\n",
              "50%     1567.000000   46.100000        3.000000\n",
              "75%     2346.000000   73.000000        4.000000\n",
              "max    25000.000000  415.000000       10.000000"
            ]
          },
          "metadata": {
            "tags": []
          },
          "execution_count": 4
        }
      ]
    },
    {
      "cell_type": "markdown",
      "metadata": {
        "id": "FJqg3JcrsRlw"
      },
      "source": [
        "On peut déjà observer qu'il y a des valeurs manquantes pour les surfaces et les arrondissements. Supprimons ces lignes"
      ]
    },
    {
      "cell_type": "code",
      "metadata": {
        "colab": {
          "base_uri": "https://localhost:8080/"
        },
        "id": "OAMQzgx5M4W3",
        "outputId": "22829a86-3096-46f9-d854-b373dd788262"
      },
      "source": [
        "# Suppression des lignes comportant des valeurs manquantes\n",
        "data_na = raw_data.dropna()\n",
        "\n",
        "# On réindexe\n",
        "data_na = data_na.reset_index(drop=True)\n",
        "\n",
        "data_na.shape"
      ],
      "execution_count": 7,
      "outputs": [
        {
          "output_type": "execute_result",
          "data": {
            "text/plain": [
              "(822, 3)"
            ]
          },
          "metadata": {
            "tags": []
          },
          "execution_count": 7
        }
      ]
    },
    {
      "cell_type": "code",
      "metadata": {
        "colab": {
          "base_uri": "https://localhost:8080/"
        },
        "id": "B-jD10mkuE9R",
        "outputId": "91f4a311-3576-4d3e-d80b-283ef6ef75e0"
      },
      "source": [
        "# Les différents arrondissements de Paris apparaissant dans le jeu de données\r\n",
        "data_na['arrondissement'].unique()"
      ],
      "execution_count": 6,
      "outputs": [
        {
          "output_type": "execute_result",
          "data": {
            "text/plain": [
              "array([ 1.,  2.,  3.,  4., 10.])"
            ]
          },
          "metadata": {
            "tags": []
          },
          "execution_count": 6
        }
      ]
    },
    {
      "cell_type": "markdown",
      "metadata": {
        "id": "Vx7LvETONPBX"
      },
      "source": [
        "Donc les différents arrondissements qui apparaissent dans les données sont le 1er, le 2ème, le 3ème, le 4ème et le 10ème"
      ]
    },
    {
      "cell_type": "markdown",
      "metadata": {
        "id": "ilyPxsz2SXKL"
      },
      "source": [
        "Maintenant, il serait intéressant de visualiser les données que nous avons nettoyées. \r\n",
        "Affichons le nuage de points correspondant au loyer en fonction de la surface (avec une coloration correspondant aux arrondissements)"
      ]
    },
    {
      "cell_type": "code",
      "metadata": {
        "colab": {
          "base_uri": "https://localhost:8080/",
          "height": 275
        },
        "id": "bT-soNKnNktf",
        "outputId": "ac0c669c-a2e5-4c2b-ac67-6ceae9ac473d"
      },
      "source": [
        "data_na.plot.scatter('surface', 'price', c='arrondissement', colormap='viridis')"
      ],
      "execution_count": 19,
      "outputs": [
        {
          "output_type": "execute_result",
          "data": {
            "text/plain": [
              "<matplotlib.axes._subplots.AxesSubplot at 0x7fceb8031c88>"
            ]
          },
          "metadata": {
            "tags": []
          },
          "execution_count": 19
        },
        {
          "output_type": "display_data",
          "data": {
            "image/png": "[encoded data removed]",
            "text/plain": [
              "<Figure size 432x288 with 2 Axes>"
            ]
          },
          "metadata": {
            "tags": [],
            "needs_background": "light"
          }
        }
      ]
    },
    {
      "cell_type": "markdown",
      "metadata": {
        "id": "WnV-r_jpxyo0"
      },
      "source": [
        "On constate que le loyer évolue de façon linéaire en fonction des prix. Par contre, pour des prix au-delà de 8000 € environ, nous avons beaucoup d'outliers. Pour une plus grande simplicité d'analyse, nous ne considèrerons pas ces données"
      ]
    },
    {
      "cell_type": "code",
      "metadata": {
        "colab": {
          "base_uri": "https://localhost:8080/",
          "height": 275
        },
        "id": "aLwntBTlR9mK",
        "outputId": "3ad7fd09-e7e0-40a5-f0d2-6dd0e03498ed"
      },
      "source": [
        "house_data = data_na[data_na['price'] < 8000]\n",
        "house_data.reset_index(drop=True)\n",
        "house_data.plot.scatter(\"surface\", \"price\", c=\"arrondissement\",\n",
        "                        colormap=\"viridis\")"
      ],
      "execution_count": 21,
      "outputs": [
        {
          "output_type": "execute_result",
          "data": {
            "text/plain": [
              "<matplotlib.axes._subplots.AxesSubplot at 0x7fceb7f2f9e8>"
            ]
          },
          "metadata": {
            "tags": []
          },
          "execution_count": 21
        },
        {
          "output_type": "display_data",
          "data": {
            "image/png": "[encoded data removed]",
            "text/plain": [
              "<Figure size 432x288 with 2 Axes>"
            ]
          },
          "metadata": {
            "tags": [],
            "needs_background": "light"
          }
        }
      ]
    },
    {
      "cell_type": "markdown",
      "metadata": {
        "id": "nWiz9hhhy2C-"
      },
      "source": [
        "**On note clairement un problème d'hétéroscédascticité dans ces données. On y reviendra plus tard**\r\n",
        "\r\n",
        "On affiche maintenant la variable prédite (loyer) en fonction de l'arrondissement"
      ]
    },
    {
      "cell_type": "code",
      "metadata": {
        "colab": {
          "base_uri": "https://localhost:8080/",
          "height": 333
        },
        "id": "QZ5VfINQS51t",
        "outputId": "09fd1cbf-d18c-4743-c69a-d24553b7a896"
      },
      "source": [
        "ax1 = sns.violinplot(\"arrondissement\", \"price\", data=house_data, \n",
        "                     hue=\"arrondissement\")\n",
        "ax1.minorticks_on()\n",
        "ax1.xaxis.set_minor_locator(AutoMinorLocator(2))\n",
        "ax1.grid(which='minor', axis='x', linewidth=1)"
      ],
      "execution_count": 27,
      "outputs": [
        {
          "output_type": "stream",
          "text": [
            "/usr/local/lib/python3.6/dist-packages/seaborn/_decorators.py:43: FutureWarning: Pass the following variables as keyword args: x, y. From version 0.12, the only valid positional argument will be `data`, and passing other arguments without an explicit keyword will result in an error or misinterpretation.\n",
            "  FutureWarning\n"
          ],
          "name": "stderr"
        },
        {
          "output_type": "display_data",
          "data": {
            "image/png": "[encoded data removed]",
            "text/plain": [
              "<Figure size 432x288 with 1 Axes>"
            ]
          },
          "metadata": {
            "tags": [],
            "needs_background": "light"
          }
        }
      ]
    },
    {
      "cell_type": "markdown",
      "metadata": {
        "id": "-fxIOEh7TMmQ"
      },
      "source": [
        "La répartition des prix semblent la même pour chaque arrondissement, avec moins de loyers élevés (+volatiles) dans le 10ème. Si on considère qu'on a des échantillons représentatifs, il faut de toute façon croiser avec la surface pour avoir une vision plus claire"
      ]
    },
    {
      "cell_type": "code",
      "metadata": {
        "colab": {
          "base_uri": "https://localhost:8080/",
          "height": 265
        },
        "id": "-6oAYA9m6ae5",
        "outputId": "254b6ed3-8dc4-40a1-f329-32b600d4a358"
      },
      "source": [
        "from mpl_toolkits.mplot3d import Axes3D\r\n",
        "fig = plt.figure().gca(projection='3d')\r\n",
        "\r\n",
        "# Pour faciliter la visualisation, on va changer la valeur de l'arrondissement (10)\r\n",
        "tmp_arr = house_data['arrondissement'][:]\r\n",
        "tmp_arr[tmp_arr == 10] = 5\r\n",
        "\r\n",
        "fig.scatter(tmp_arr, house_data[\"surface\"], house_data[\"price\"], c=tmp_arr,\r\n",
        "            cmap=\"viridis\")"
      ],
      "execution_count": 29,
      "outputs": [
        {
          "output_type": "execute_result",
          "data": {
            "text/plain": [
              "<mpl_toolkits.mplot3d.art3d.Path3DCollection at 0x7fcead5bf860>"
            ]
          },
          "metadata": {
            "tags": []
          },
          "execution_count": 29
        },
        {
          "output_type": "display_data",
          "data": {
            "image/png": "[encoded data removed]",
            "text/plain": [
              "<Figure size 432x288 with 1 Axes>"
            ]
          },
          "metadata": {
            "tags": [],
            "needs_background": "light"
          }
        }
      ]
    },
    {
      "cell_type": "markdown",
      "metadata": {
        "id": "8Y_be6oPVwsf"
      },
      "source": [
        "# Modélisation"
      ]
    },
    {
      "cell_type": "markdown",
      "metadata": {
        "id": "wO2adTy49Ldx"
      },
      "source": [
        "On va effectuer une régression spécifique sur chaque arrondissement pour avoir plus de précision. D'abord, séparation du jeu de données d'entraînement du jeu de données de test"
      ]
    },
    {
      "cell_type": "code",
      "metadata": {
        "id": "BXG81h4G-hck"
      },
      "source": [
        "X_train, X_test, y_train, y_test = train_test_split(\r\n",
        "    house_data[[\"surface\", \"arrondissement\"]],\r\n",
        "    house_data[[\"price\"]],\r\n",
        "    train_size=.8)"
      ],
      "execution_count": 31,
      "outputs": []
    },
    {
      "cell_type": "markdown",
      "metadata": {
        "id": "Ub9tFGFT_VHT"
      },
      "source": [
        "Créons ensuite la baseline et calculons le R2 (la somme quadratique des résidus), comme valeur d'évaluation de notre régression"
      ]
    },
    {
      "cell_type": "code",
      "metadata": {
        "id": "cH-dodbE_nyc"
      },
      "source": [
        "lr = LinearRegression()\r\n",
        "lr_baseline = lf.fit(X_train[[\"surface\"]], y_train)\r\n"
      ],
      "execution_count": null,
      "outputs": []
    },
    {
      "cell_type": "markdown",
      "metadata": {
        "id": "IkuNVqs8V0nK"
      },
      "source": [
        "## One-hot encoding\n",
        "\n",
        "Les arrondissements étaient des données de type catégorique, nous allons les convertir en one-hot encoding"
      ]
    },
    {
      "cell_type": "code",
      "metadata": {
        "colab": {
          "base_uri": "https://localhost:8080/"
        },
        "id": "avLrnx2kWVjO",
        "outputId": "3c7914e6-4f7b-4830-bfb2-5056f5470f87"
      },
      "source": [
        "# Pour plus de propreté, commençons par mettre les arrondissements au format int\n",
        "# plutôt que float\n",
        "house_data['arrondissement'] = house_data['arrondissement'].astype('int')\n",
        "house_data['arrondissement'].unique()"
      ],
      "execution_count": null,
      "outputs": [
        {
          "output_type": "execute_result",
          "data": {
            "text/plain": [
              "array([ 1,  2,  3,  4, 10])"
            ]
          },
          "metadata": {
            "tags": []
          },
          "execution_count": 35
        }
      ]
    },
    {
      "cell_type": "code",
      "metadata": {
        "colab": {
          "base_uri": "https://localhost:8080/",
          "height": 204
        },
        "id": "QgJHts03XoIQ",
        "outputId": "5deb212c-9901-4b9f-c62e-16a9df9d9c41"
      },
      "source": [
        "# Passage au one-hot encoding\n",
        "one_hot_arrondissements = pd.get_dummies(house_data['arrondissement'])\n",
        "\n",
        "# On retire la colonne correspondant à l'arrondissement\n",
        "# On crée une variable pour contenir les arrondissements de notre jeu de données\n",
        "# sous la forme d'un one-hot encoding\n",
        "OH_house_data = house_data.drop('arrondissement', axis=1)\n",
        "\n",
        "# Concaténation de l'encoding à notre jeu de données\n",
        "OH_house_data = OH_house_data.join(one_hot_arrondissements)\n",
        "\n",
        "OH_house_data.head()"
      ],
      "execution_count": null,
      "outputs": [
        {
          "output_type": "execute_result",
          "data": {
            "text/html": [
              "<div>\n",
              "<style scoped>\n",
              "    .dataframe tbody tr th:only-of-type {\n",
              "        vertical-align: middle;\n",
              "    }\n",
              "\n",
              "    .dataframe tbody tr th {\n",
              "        vertical-align: top;\n",
              "    }\n",
              "\n",
              "    .dataframe thead th {\n",
              "        text-align: right;\n",
              "    }\n",
              "</style>\n",
              "<table border=\"1\" class=\"dataframe\">\n",
              "  <thead>\n",
              "    <tr style=\"text-align: right;\">\n",
              "      <th></th>\n",
              "      <th>price</th>\n",
              "      <th>surface</th>\n",
              "      <th>1</th>\n",
              "      <th>2</th>\n",
              "      <th>3</th>\n",
              "      <th>4</th>\n",
              "      <th>10</th>\n",
              "    </tr>\n",
              "  </thead>\n",
              "  <tbody>\n",
              "    <tr>\n",
              "      <th>0</th>\n",
              "      <td>1820</td>\n",
              "      <td>46.1</td>\n",
              "      <td>1</td>\n",
              "      <td>0</td>\n",
              "      <td>0</td>\n",
              "      <td>0</td>\n",
              "      <td>0</td>\n",
              "    </tr>\n",
              "    <tr>\n",
              "      <th>1</th>\n",
              "      <td>1750</td>\n",
              "      <td>41.0</td>\n",
              "      <td>1</td>\n",
              "      <td>0</td>\n",
              "      <td>0</td>\n",
              "      <td>0</td>\n",
              "      <td>0</td>\n",
              "    </tr>\n",
              "    <tr>\n",
              "      <th>2</th>\n",
              "      <td>1900</td>\n",
              "      <td>55.0</td>\n",
              "      <td>1</td>\n",
              "      <td>0</td>\n",
              "      <td>0</td>\n",
              "      <td>0</td>\n",
              "      <td>0</td>\n",
              "    </tr>\n",
              "    <tr>\n",
              "      <th>3</th>\n",
              "      <td>1950</td>\n",
              "      <td>46.0</td>\n",
              "      <td>1</td>\n",
              "      <td>0</td>\n",
              "      <td>0</td>\n",
              "      <td>0</td>\n",
              "      <td>0</td>\n",
              "    </tr>\n",
              "    <tr>\n",
              "      <th>4</th>\n",
              "      <td>1950</td>\n",
              "      <td>49.0</td>\n",
              "      <td>1</td>\n",
              "      <td>0</td>\n",
              "      <td>0</td>\n",
              "      <td>0</td>\n",
              "      <td>0</td>\n",
              "    </tr>\n",
              "  </tbody>\n",
              "</table>\n",
              "</div>"
            ],
            "text/plain": [
              "   price  surface  1  2  3  4  10\n",
              "0   1820     46.1  1  0  0  0   0\n",
              "1   1750     41.0  1  0  0  0   0\n",
              "2   1900     55.0  1  0  0  0   0\n",
              "3   1950     46.0  1  0  0  0   0\n",
              "4   1950     49.0  1  0  0  0   0"
            ]
          },
          "metadata": {
            "tags": []
          },
          "execution_count": 37
        }
      ]
    },
    {
      "cell_type": "markdown",
      "metadata": {
        "id": "lIkOaUb5bSqs"
      },
      "source": [
        "## Entraînement du modèle"
      ]
    },
    {
      "cell_type": "code",
      "metadata": {
        "id": "HyzYOQf7bX_R"
      },
      "source": [
        "features = [col for col in OH_house_data.columns if col != 'price']\n",
        "\n",
        "# Tout d'abord, séparons les features de la cible de prédiction\n",
        "X = OH_house_data[features]\n",
        "y = OH_house_data['price']\n",
        "\n",
        "X_train, X_test, y_train, y_test = train_test_split(X, y, train_size=.8)"
      ],
      "execution_count": null,
      "outputs": []
    },
    {
      "cell_type": "code",
      "metadata": {
        "colab": {
          "base_uri": "https://localhost:8080/",
          "height": 204
        },
        "id": "bqC-dYt4gJSX",
        "outputId": "0656c087-49de-41fc-a07a-bae6500edfc7"
      },
      "source": [
        "X_train.head()"
      ],
      "execution_count": null,
      "outputs": [
        {
          "output_type": "execute_result",
          "data": {
            "text/html": [
              "<div>\n",
              "<style scoped>\n",
              "    .dataframe tbody tr th:only-of-type {\n",
              "        vertical-align: middle;\n",
              "    }\n",
              "\n",
              "    .dataframe tbody tr th {\n",
              "        vertical-align: top;\n",
              "    }\n",
              "\n",
              "    .dataframe thead th {\n",
              "        text-align: right;\n",
              "    }\n",
              "</style>\n",
              "<table border=\"1\" class=\"dataframe\">\n",
              "  <thead>\n",
              "    <tr style=\"text-align: right;\">\n",
              "      <th></th>\n",
              "      <th>surface</th>\n",
              "      <th>1</th>\n",
              "      <th>2</th>\n",
              "      <th>3</th>\n",
              "      <th>4</th>\n",
              "      <th>10</th>\n",
              "    </tr>\n",
              "  </thead>\n",
              "  <tbody>\n",
              "    <tr>\n",
              "      <th>708</th>\n",
              "      <td>60.0</td>\n",
              "      <td>0</td>\n",
              "      <td>0</td>\n",
              "      <td>0</td>\n",
              "      <td>0</td>\n",
              "      <td>1</td>\n",
              "    </tr>\n",
              "    <tr>\n",
              "      <th>107</th>\n",
              "      <td>110.0</td>\n",
              "      <td>1</td>\n",
              "      <td>0</td>\n",
              "      <td>0</td>\n",
              "      <td>0</td>\n",
              "      <td>0</td>\n",
              "    </tr>\n",
              "    <tr>\n",
              "      <th>378</th>\n",
              "      <td>40.0</td>\n",
              "      <td>0</td>\n",
              "      <td>0</td>\n",
              "      <td>1</td>\n",
              "      <td>0</td>\n",
              "      <td>0</td>\n",
              "    </tr>\n",
              "    <tr>\n",
              "      <th>746</th>\n",
              "      <td>29.4</td>\n",
              "      <td>0</td>\n",
              "      <td>0</td>\n",
              "      <td>0</td>\n",
              "      <td>0</td>\n",
              "      <td>1</td>\n",
              "    </tr>\n",
              "    <tr>\n",
              "      <th>580</th>\n",
              "      <td>40.0</td>\n",
              "      <td>0</td>\n",
              "      <td>0</td>\n",
              "      <td>0</td>\n",
              "      <td>1</td>\n",
              "      <td>0</td>\n",
              "    </tr>\n",
              "  </tbody>\n",
              "</table>\n",
              "</div>"
            ],
            "text/plain": [
              "     surface  1  2  3  4  10\n",
              "708     60.0  0  0  0  0   1\n",
              "107    110.0  1  0  0  0   0\n",
              "378     40.0  0  0  1  0   0\n",
              "746     29.4  0  0  0  0   1\n",
              "580     40.0  0  0  0  1   0"
            ]
          },
          "metadata": {
            "tags": []
          },
          "execution_count": 46
        }
      ]
    },
    {
      "cell_type": "code",
      "metadata": {
        "colab": {
          "base_uri": "https://localhost:8080/"
        },
        "id": "jvfUjKUZgNi-",
        "outputId": "2114ff16-56c6-43aa-94ca-814d06d56a5f"
      },
      "source": [
        "y_train.head()"
      ],
      "execution_count": null,
      "outputs": [
        {
          "output_type": "execute_result",
          "data": {
            "text/plain": [
              "708    1670\n",
              "107    2900\n",
              "378    1390\n",
              "746    1050\n",
              "580    2000\n",
              "Name: price, dtype: int64"
            ]
          },
          "metadata": {
            "tags": []
          },
          "execution_count": 47
        }
      ]
    },
    {
      "cell_type": "code",
      "metadata": {
        "colab": {
          "base_uri": "https://localhost:8080/"
        },
        "id": "ZDevswJugRfk",
        "outputId": "8d35bc40-0e7e-4f95-e519-e0788c9acad9"
      },
      "source": [
        "X_train.shape"
      ],
      "execution_count": null,
      "outputs": [
        {
          "output_type": "execute_result",
          "data": {
            "text/plain": [
              "(650, 6)"
            ]
          },
          "metadata": {
            "tags": []
          },
          "execution_count": 48
        }
      ]
    },
    {
      "cell_type": "code",
      "metadata": {
        "colab": {
          "base_uri": "https://localhost:8080/"
        },
        "id": "qDyYCl-ogkAG",
        "outputId": "ed818690-d91a-4531-ad73-cecd6424d5c2"
      },
      "source": [
        "y_train.shape"
      ],
      "execution_count": null,
      "outputs": [
        {
          "output_type": "execute_result",
          "data": {
            "text/plain": [
              "(650,)"
            ]
          },
          "metadata": {
            "tags": []
          },
          "execution_count": 49
        }
      ]
    },
    {
      "cell_type": "code",
      "metadata": {
        "colab": {
          "base_uri": "https://localhost:8080/"
        },
        "id": "cGTMznKBgpE8",
        "outputId": "718bfc33-1d9a-4fa3-b002-ab64cf834ea0"
      },
      "source": [
        "# Construction du modèle de regression linéaire\n",
        "model = LinearRegression()\n",
        "model.fit(X_train, y_train)\n",
        "model.score(X_train, y_train)"
      ],
      "execution_count": null,
      "outputs": [
        {
          "output_type": "execute_result",
          "data": {
            "text/plain": [
              "0.833641779413364"
            ]
          },
          "metadata": {
            "tags": []
          },
          "execution_count": 52
        }
      ]
    },
    {
      "cell_type": "markdown",
      "metadata": {
        "id": "ADQq0WyriO6O"
      },
      "source": [
        "On obtient un score d'environ 83.36 % à l'entraînement (évaluation avec le coefficient de détermination R2)"
      ]
    },
    {
      "cell_type": "code",
      "metadata": {
        "colab": {
          "base_uri": "https://localhost:8080/"
        },
        "id": "1_TjsFrVijGh",
        "outputId": "0d7a49bd-0887-4a46-f035-3fee43e8bf3e"
      },
      "source": [
        "# Évaluation sur les données de test\n",
        "model.score(X_test, y_test)"
      ],
      "execution_count": null,
      "outputs": [
        {
          "output_type": "execute_result",
          "data": {
            "text/plain": [
              "0.8657220347621318"
            ]
          },
          "metadata": {
            "tags": []
          },
          "execution_count": 53
        }
      ]
    },
    {
      "cell_type": "markdown",
      "metadata": {
        "id": "GKANPICfiwSK"
      },
      "source": [
        "Les performances sont tout aussi bonnes sur les données de test avec un score d'environ 86.57%"
      ]
    },
    {
      "cell_type": "code",
      "metadata": {
        "id": "DYv4MtSOivLP"
      },
      "source": [
        "# TODO : Améliorer davantage le modèle"
      ],
      "execution_count": null,
      "outputs": []
    }
  ]
}